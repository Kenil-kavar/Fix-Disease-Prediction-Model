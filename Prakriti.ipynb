{
 "cells": [
  {
   "cell_type": "code",
   "execution_count": 1,
   "metadata": {},
   "outputs": [],
   "source": [
    "import numpy as np\n",
    "import pandas as pd\n",
    "import matplotlib.pyplot as plt\n",
    "%matplotlib inline"
   ]
  },
  {
   "cell_type": "code",
   "execution_count": 4,
   "metadata": {},
   "outputs": [],
   "source": [
    "datasets= pd.read_csv('bodyfind.csv')"
   ]
  },
  {
   "cell_type": "code",
   "execution_count": 6,
   "metadata": {},
   "outputs": [
    {
     "name": "stdout",
     "output_type": "stream",
     "text": [
      "<class 'pandas.core.frame.DataFrame'>\n",
      "RangeIndex: 1200 entries, 0 to 1199\n",
      "Data columns (total 21 columns):\n",
      " #   Column                Non-Null Count  Dtype\n",
      "---  ------                --------------  -----\n",
      " 0   Body Size             1200 non-null   int64\n",
      " 1   Body Weight           1200 non-null   int64\n",
      " 2   Height                1200 non-null   int64\n",
      " 3   Bone Structure        1200 non-null   int64\n",
      " 4   Com1lexion            1200 non-null   int64\n",
      " 5   General feel of skin  1200 non-null   int64\n",
      " 6   Texture of Skin       1200 non-null   int64\n",
      " 7   Hair Color            1200 non-null   int64\n",
      " 8   A11earance of Hair    1200 non-null   int64\n",
      " 9   Sha1e of face         1200 non-null   int64\n",
      " 10  Eyes                  1200 non-null   int64\n",
      " 11  Eyelashes             1200 non-null   int64\n",
      " 12  Blinking of Eyes      1200 non-null   int64\n",
      " 13  Cheeks                1200 non-null   int64\n",
      " 14  Nose                  1200 non-null   int64\n",
      " 15  Teeth and gums        1200 non-null   int64\n",
      " 16  Li1s                  1200 non-null   int64\n",
      " 17  Nails                 1200 non-null   int64\n",
      " 18  A11etite              1200 non-null   int64\n",
      " 19  Liking tastes         1200 non-null   int64\n",
      " 20  Dosha                 1200 non-null   int64\n",
      "dtypes: int64(21)\n",
      "memory usage: 197.0 KB\n"
     ]
    }
   ],
   "source": [
    "datasets.info()"
   ]
  },
  {
   "cell_type": "code",
   "execution_count": 7,
   "metadata": {},
   "outputs": [
    {
     "data": {
      "text/plain": [
       "(1200, 21)"
      ]
     },
     "execution_count": 7,
     "metadata": {},
     "output_type": "execute_result"
    }
   ],
   "source": [
    "datasets.shape"
   ]
  },
  {
   "cell_type": "code",
   "execution_count": 9,
   "metadata": {},
   "outputs": [
    {
     "data": {
      "text/plain": [
       "Dosha\n",
       "3    624\n",
       "0    264\n",
       "1    144\n",
       "2     72\n",
       "5     48\n",
       "4     48\n",
       "Name: count, dtype: int64"
      ]
     },
     "execution_count": 9,
     "metadata": {},
     "output_type": "execute_result"
    }
   ],
   "source": [
    "datasets.Dosha.value_counts()"
   ]
  },
  {
   "cell_type": "code",
   "execution_count": 10,
   "metadata": {},
   "outputs": [
    {
     "data": {
      "text/plain": [
       "Body Size               0\n",
       "Body Weight             0\n",
       "Height                  0\n",
       "Bone Structure          0\n",
       "Com1lexion              0\n",
       "General feel of skin    0\n",
       "Texture of Skin         0\n",
       "Hair Color              0\n",
       "A11earance of Hair      0\n",
       "Sha1e of face           0\n",
       "Eyes                    0\n",
       "Eyelashes               0\n",
       "Blinking of Eyes        0\n",
       "Cheeks                  0\n",
       "Nose                    0\n",
       "Teeth and gums          0\n",
       "Li1s                    0\n",
       "Nails                   0\n",
       "A11etite                0\n",
       "Liking tastes           0\n",
       "Dosha                   0\n",
       "dtype: int64"
      ]
     },
     "execution_count": 10,
     "metadata": {},
     "output_type": "execute_result"
    }
   ],
   "source": [
    "datasets.isna().sum()"
   ]
  },
  {
   "cell_type": "code",
   "execution_count": 12,
   "metadata": {},
   "outputs": [],
   "source": [
    "K = datasets[[\"Dosha\"]]\n",
    "X = datasets.drop([\"Dosha\"],axis=1)"
   ]
  },
  {
   "cell_type": "code",
   "execution_count": 13,
   "metadata": {},
   "outputs": [
    {
     "data": {
      "text/plain": [
       "(1200, 1)"
      ]
     },
     "execution_count": 13,
     "metadata": {},
     "output_type": "execute_result"
    }
   ],
   "source": [
    "K.shape"
   ]
  },
  {
   "cell_type": "code",
   "execution_count": 14,
   "metadata": {},
   "outputs": [
    {
     "data": {
      "text/plain": [
       "(1200, 20)"
      ]
     },
     "execution_count": 14,
     "metadata": {},
     "output_type": "execute_result"
    }
   ],
   "source": [
    "X.shape"
   ]
  },
  {
   "cell_type": "code",
   "execution_count": 15,
   "metadata": {},
   "outputs": [],
   "source": [
    "from sklearn.model_selection import train_test_split\n",
    "X_train,X_test,y_train,y_test = train_test_split(X,K,test_size=0.3,random_state=42)"
   ]
  },
  {
   "cell_type": "code",
   "execution_count": 16,
   "metadata": {},
   "outputs": [],
   "source": [
    "from sklearn.tree import DecisionTreeClassifier\n",
    "from sklearn.metrics import accuracy_score\n",
    "my=DecisionTreeClassifier()"
   ]
  },
  {
   "cell_type": "code",
   "execution_count": 17,
   "metadata": {},
   "outputs": [
    {
     "name": "stdout",
     "output_type": "stream",
     "text": [
      "Our Training accuracy=  100.0 %\n",
      "Our Testing accuracy=  100.0 %\n"
     ]
    }
   ],
   "source": [
    "model_my = my.fit(X_train,y_train)\n",
    "tr_pred_my = model_my.predict(X_train)\n",
    "ts_pred_my = model_my.predict(X_test)\n",
    "\n",
    "print(\"Our Training accuracy= \",accuracy_score(y_train,tr_pred_my)*100,\"%\")\n",
    "print(\"Our Testing accuracy= \",accuracy_score(y_test,ts_pred_my)*100,\"%\")"
   ]
  },
  {
   "cell_type": "code",
   "execution_count": 18,
   "metadata": {},
   "outputs": [],
   "source": [
    "import pickle\n",
    "file = open('modelForPredictingDoshas.pkl','wb')\n",
    "pickle.dump(model_my,file)\n",
    "file.close()"
   ]
  },
  {
   "cell_type": "code",
   "execution_count": null,
   "metadata": {},
   "outputs": [],
   "source": []
  }
 ],
 "metadata": {
  "kernelspec": {
   "display_name": "Python 3",
   "language": "python",
   "name": "python3"
  },
  "language_info": {
   "codemirror_mode": {
    "name": "ipython",
    "version": 3
   },
   "file_extension": ".py",
   "mimetype": "text/x-python",
   "name": "python",
   "nbconvert_exporter": "python",
   "pygments_lexer": "ipython3",
   "version": "3.11.5"
  },
  "orig_nbformat": 4
 },
 "nbformat": 4,
 "nbformat_minor": 2
}
