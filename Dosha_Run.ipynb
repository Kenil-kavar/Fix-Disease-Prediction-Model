{
 "cells": [
  {
   "cell_type": "code",
   "execution_count": 24,
   "metadata": {},
   "outputs": [
    {
     "data": {
      "text/plain": [
       "['Body Size',\n",
       " 'Body Weight',\n",
       " 'Height',\n",
       " 'Bone Structure',\n",
       " 'Com1lexion',\n",
       " 'General feel of skin',\n",
       " 'Texture of Skin',\n",
       " 'Hair Color',\n",
       " 'A11earance of Hair',\n",
       " 'Sha1e of face',\n",
       " 'Eyes',\n",
       " 'Eyelashes',\n",
       " 'Blinking of Eyes',\n",
       " 'Cheeks',\n",
       " 'Nose',\n",
       " 'Teeth and gums',\n",
       " 'Li1s',\n",
       " 'Nails',\n",
       " 'A11etite',\n",
       " 'Liking tastes']"
      ]
     },
     "execution_count": 24,
     "metadata": {},
     "output_type": "execute_result"
    }
   ],
   "source": [
    "import pandas as pd\n",
    "\n",
    "  \n",
    "header = pd.read_csv(\"header.csv\")\n",
    "\n",
    "# list of all columns in csv file\n",
    "columns = []\n",
    "\n",
    "# we have all the columns in the \n",
    "for column in header:\n",
    "    columns.append(column)\n",
    "\n",
    "columns"
   ]
  },
  {
   "cell_type": "code",
   "execution_count": 10,
   "metadata": {},
   "outputs": [],
   "source": [
    "# To convert the values into a list of listof each value because thats what the dumb model understands and also convert it into a number\n",
    "def make_list(x : list):\n",
    "    new_list = []\n",
    "    for element in x:\n",
    "        new_list.append([float(element)])\n",
    "    return new_list"
   ]
  },
  {
   "cell_type": "markdown",
   "metadata": {},
   "source": [
    "# Get a sample value list present in values.csv"
   ]
  },
  {
   "cell_type": "code",
   "execution_count": 25,
   "metadata": {},
   "outputs": [
    {
     "data": {
      "text/plain": [
       "[[2.0],\n",
       " [1.0],\n",
       " [0.0],\n",
       " [1.1],\n",
       " [0.1],\n",
       " [1.2],\n",
       " [2.1],\n",
       " [0.2],\n",
       " [0.3],\n",
       " [0.4],\n",
       " [0.5],\n",
       " [0.6],\n",
       " [1.3],\n",
       " [0.7],\n",
       " [1.4],\n",
       " [1.5],\n",
       " [1.6],\n",
       " [1.7],\n",
       " [1.8],\n",
       " [1.9],\n",
       " [3.0]]"
      ]
     },
     "execution_count": 25,
     "metadata": {},
     "output_type": "execute_result"
    }
   ],
   "source": [
    "values = pd.read_csv(\"values.csv\")\n",
    "values_list = make_list(list(values))\n",
    "values_list"
   ]
  },
  {
   "cell_type": "markdown",
   "metadata": {},
   "source": [
    "Create a dictionary for the datafram where key is the column and value is the value in list form"
   ]
  },
  {
   "cell_type": "code",
   "execution_count": 26,
   "metadata": {},
   "outputs": [
    {
     "data": {
      "text/plain": [
       "{'Body Size': [2.0],\n",
       " 'Body Weight': [1.0],\n",
       " 'Height': [0.0],\n",
       " 'Bone Structure': [1.1],\n",
       " 'Com1lexion': [0.1],\n",
       " 'General feel of skin': [1.2],\n",
       " 'Texture of Skin': [2.1],\n",
       " 'Hair Color': [0.2],\n",
       " 'A11earance of Hair': [0.3],\n",
       " 'Sha1e of face': [0.4],\n",
       " 'Eyes': [0.5],\n",
       " 'Eyelashes': [0.6],\n",
       " 'Blinking of Eyes': [1.3],\n",
       " 'Cheeks': [0.7],\n",
       " 'Nose': [1.4],\n",
       " 'Teeth and gums': [1.5],\n",
       " 'Li1s': [1.6],\n",
       " 'Nails': [1.7],\n",
       " 'A11etite': [1.8],\n",
       " 'Liking tastes': [1.9]}"
      ]
     },
     "execution_count": 26,
     "metadata": {},
     "output_type": "execute_result"
    }
   ],
   "source": [
    "dict = {}\n",
    "#for loop to loop through columns and values \n",
    "for i in range(len(columns)):\n",
    "    dict[columns[i]]  = values_list[i]\n",
    "\n",
    "dict"
   ]
  },
  {
   "cell_type": "markdown",
   "metadata": {},
   "source": [
    "# Convert the dictionary into dataframe"
   ]
  },
  {
   "cell_type": "code",
   "execution_count": 27,
   "metadata": {},
   "outputs": [],
   "source": [
    "frame = pd.DataFrame(dict)"
   ]
  },
  {
   "cell_type": "markdown",
   "metadata": {},
   "source": [
    "# load the model"
   ]
  },
  {
   "cell_type": "code",
   "execution_count": 28,
   "metadata": {},
   "outputs": [
    {
     "name": "stderr",
     "output_type": "stream",
     "text": [
      "c:\\Users\\ASUS\\AppData\\Local\\Programs\\Python\\Python311\\Lib\\site-packages\\sklearn\\base.py:347: InconsistentVersionWarning: Trying to unpickle estimator DecisionTreeClassifier from version 1.3.1 when using version 1.3.0. This might lead to breaking code or invalid results. Use at your own risk. For more info please refer to:\n",
      "https://scikit-learn.org/stable/model_persistence.html#security-maintainability-limitations\n",
      "  warnings.warn(\n"
     ]
    }
   ],
   "source": [
    "import pickle\n",
    "# Replace 'file_path.pkl' with the path to your pickle file\n",
    "with open('modelForPredictingDoshas.pkl', 'rb') as file:\n",
    "    model = pickle.load(file)"
   ]
  },
  {
   "cell_type": "markdown",
   "metadata": {},
   "source": [
    "INference\n"
   ]
  },
  {
   "cell_type": "code",
   "execution_count": 29,
   "metadata": {},
   "outputs": [
    {
     "name": "stdout",
     "output_type": "stream",
     "text": [
      "[3]\n"
     ]
    }
   ],
   "source": [
    "Q=model.predict(frame)\n",
    "print(Q)"
   ]
  },
  {
   "cell_type": "code",
   "execution_count": null,
   "metadata": {},
   "outputs": [],
   "source": []
  }
 ],
 "metadata": {
  "kernelspec": {
   "display_name": "Python 3",
   "language": "python",
   "name": "python3"
  },
  "language_info": {
   "codemirror_mode": {
    "name": "ipython",
    "version": 3
   },
   "file_extension": ".py",
   "mimetype": "text/x-python",
   "name": "python",
   "nbconvert_exporter": "python",
   "pygments_lexer": "ipython3",
   "version": "3.11.2"
  },
  "orig_nbformat": 4
 },
 "nbformat": 4,
 "nbformat_minor": 2
}
